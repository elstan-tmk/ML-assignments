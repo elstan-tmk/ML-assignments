{
 "cells": [
  {
   "cell_type": "markdown",
   "id": "e0ceca0a-e56d-46a4-86a4-8d0cff453afe",
   "metadata": {
    "tags": []
   },
   "source": [
    "# CA 06 - Customer Segmentation using K-means Clustering\n",
    "\n",
    "## Objective: \n",
    "Perform customer segmentation using the k-means clustering algorithm in order to better understand the different types of customers in a given dataset.\n",
    "\n",
    "## Dataset: \n",
    "\"Mall_Customers.csv\" <br>\n",
    "https://github.com/ArinB/MSBA-CA-Data/raw/main/CA06/Mall_Customers.csv <br>\n",
    "This dataset contains the following attributes: \n",
    "1. CustomerID: Unique ID for each customer\n",
    "2. Gender: Male or Female\n",
    "3. Age: Age of the customer\n",
    "4. Annual Income (k$): Annual income of the customer in thousands of dollars\n",
    "5. Spending Score (1-100): A score assigned by the mall based on customer behavior and spending nature (higher scores indicate higher spending)"
   ]
  },
  {
   "cell_type": "markdown",
   "id": "229f3de6-d901-4f03-8c3b-a497b7f0d7b0",
   "metadata": {},
   "source": [
    "## Tasks"
   ]
  },
  {
   "cell_type": "markdown",
   "id": "dfabfc69-2c17-469e-9587-494d9a4d102f",
   "metadata": {},
   "source": [
    "\n",
    "4. Visualize and analyze the clusters: \n",
    "* a. Create a scatter plot of the selected features, colored by cluster assignment \n",
    "* b. Interpret the clusters and provide a brief description of each cluster c. (Optional) Perform the same analysis with different sets of features and compare the results\n",
    "5. Write a report summarizing your findings: \n",
    "* a. Describe the dataset and its attributes \n",
    "* b. Detail the steps taken for data preprocessing, feature selection, and scaling \n",
    "* c. Explain the process of determining the optimal number of clusters \n",
    "* d.Describe the clusters and their characteristics \n",
    "* e. Discuss any insights or recommendations based on your analysis"
   ]
  },
  {
   "cell_type": "markdown",
   "id": "a3928150-5f66-4247-830b-5d1c9896fce4",
   "metadata": {},
   "source": [
    "### 1. Load the dataset and perform exploratory data analysis (EDA): \n",
    "* a. Import the necessary libraries (pandas, numpy, matplotlib, seaborn) \n",
    "* b. Load the dataset using pandas and display the first few rows \n",
    "* c. Check for missing values and handle them appropriately \n",
    "* d. Visualize the distribution of features using histograms or boxplots"
   ]
  },
  {
   "cell_type": "code",
   "execution_count": 11,
   "id": "94d35ff3-4cf7-4e40-883d-fcee486135d8",
   "metadata": {},
   "outputs": [],
   "source": [
    "# import necessary packages\n",
    "import pandas as pd\n",
    "import numpy as np\n",
    "import matplotlib.pyplot as plt\n",
    "import seaborn as sns\n",
    "import matplotlib\n",
    "\n",
    "%matplotlib inline"
   ]
  },
  {
   "cell_type": "code",
   "execution_count": 16,
   "id": "9a2c07f8-c6cf-4399-8dfe-3e57583def2f",
   "metadata": {},
   "outputs": [],
   "source": [
    "# Load the dataset\n",
    "df = pd.read_csv(\"https://github.com/ArinB/MSBA-CA-Data/raw/main/CA06/Mall_Customers.csv\")"
   ]
  },
  {
   "cell_type": "code",
   "execution_count": 4,
   "id": "c907ef72-9d37-4640-862d-9ba6c2bc0a1e",
   "metadata": {},
   "outputs": [
    {
     "data": {
      "text/html": [
       "<div>\n",
       "<style scoped>\n",
       "    .dataframe tbody tr th:only-of-type {\n",
       "        vertical-align: middle;\n",
       "    }\n",
       "\n",
       "    .dataframe tbody tr th {\n",
       "        vertical-align: top;\n",
       "    }\n",
       "\n",
       "    .dataframe thead th {\n",
       "        text-align: right;\n",
       "    }\n",
       "</style>\n",
       "<table border=\"1\" class=\"dataframe\">\n",
       "  <thead>\n",
       "    <tr style=\"text-align: right;\">\n",
       "      <th></th>\n",
       "      <th>CustomerID</th>\n",
       "      <th>Genre</th>\n",
       "      <th>Age</th>\n",
       "      <th>Annual Income (k$)</th>\n",
       "      <th>Spending Score (1-100)</th>\n",
       "    </tr>\n",
       "  </thead>\n",
       "  <tbody>\n",
       "    <tr>\n",
       "      <th>0</th>\n",
       "      <td>1</td>\n",
       "      <td>Male</td>\n",
       "      <td>19</td>\n",
       "      <td>15</td>\n",
       "      <td>39</td>\n",
       "    </tr>\n",
       "    <tr>\n",
       "      <th>1</th>\n",
       "      <td>2</td>\n",
       "      <td>Male</td>\n",
       "      <td>21</td>\n",
       "      <td>15</td>\n",
       "      <td>81</td>\n",
       "    </tr>\n",
       "    <tr>\n",
       "      <th>2</th>\n",
       "      <td>3</td>\n",
       "      <td>Female</td>\n",
       "      <td>20</td>\n",
       "      <td>16</td>\n",
       "      <td>6</td>\n",
       "    </tr>\n",
       "    <tr>\n",
       "      <th>3</th>\n",
       "      <td>4</td>\n",
       "      <td>Female</td>\n",
       "      <td>23</td>\n",
       "      <td>16</td>\n",
       "      <td>77</td>\n",
       "    </tr>\n",
       "    <tr>\n",
       "      <th>4</th>\n",
       "      <td>5</td>\n",
       "      <td>Female</td>\n",
       "      <td>31</td>\n",
       "      <td>17</td>\n",
       "      <td>40</td>\n",
       "    </tr>\n",
       "  </tbody>\n",
       "</table>\n",
       "</div>"
      ],
      "text/plain": [
       "   CustomerID   Genre  Age  Annual Income (k$)  Spending Score (1-100)\n",
       "0           1    Male   19                  15                      39\n",
       "1           2    Male   21                  15                      81\n",
       "2           3  Female   20                  16                       6\n",
       "3           4  Female   23                  16                      77\n",
       "4           5  Female   31                  17                      40"
      ]
     },
     "execution_count": 4,
     "metadata": {},
     "output_type": "execute_result"
    }
   ],
   "source": [
    "# Display the first few rows\n",
    "df.head()"
   ]
  },
  {
   "cell_type": "code",
   "execution_count": 9,
   "id": "2a3f42f1-fb94-4091-aef4-465c562641ac",
   "metadata": {},
   "outputs": [
    {
     "data": {
      "text/plain": [
       "CustomerID                0\n",
       "Genre                     0\n",
       "Age                       0\n",
       "Annual Income (k$)        0\n",
       "Spending Score (1-100)    0\n",
       "dtype: int64"
      ]
     },
     "execution_count": 9,
     "metadata": {},
     "output_type": "execute_result"
    }
   ],
   "source": [
    "# Look into any missing values\n",
    "\n",
    "df_number_of_missing = df.isna().sum()\n",
    "df_number_of_missing\n",
    "\n",
    "# there is no missing values in each of the columns"
   ]
  },
  {
   "cell_type": "code",
   "execution_count": 17,
   "id": "0c4fe11f-9e4a-4fe9-9415-7d8d9cbef843",
   "metadata": {},
   "outputs": [
    {
     "name": "stdout",
     "output_type": "stream",
     "text": [
      "Modified DataFrame:\n",
      "      CustomerID   Genre  Age  Annual Income (k$)  Spending Score (1-100)  \\\n",
      "0             1    Male   19                  15                      39   \n",
      "1             2    Male   21                  15                      81   \n",
      "2             3  Female   20                  16                       6   \n",
      "3             4  Female   23                  16                      77   \n",
      "4             5  Female   31                  17                      40   \n",
      "..          ...     ...  ...                 ...                     ...   \n",
      "195         196  Female   35                 120                      79   \n",
      "196         197  Female   45                 126                      28   \n",
      "197         198    Male   32                 126                      74   \n",
      "198         199    Male   32                 137                      18   \n",
      "199         200    Male   30                 137                      83   \n",
      "\n",
      "     Female  Male  \n",
      "0         0     1  \n",
      "1         0     1  \n",
      "2         1     0  \n",
      "3         1     0  \n",
      "4         1     0  \n",
      "..      ...   ...  \n",
      "195       1     0  \n",
      "196       1     0  \n",
      "197       0     1  \n",
      "198       0     1  \n",
      "199       0     1  \n",
      "\n",
      "[200 rows x 7 columns]\n"
     ]
    }
   ],
   "source": [
    "# Create a dummy column for the gender\n",
    "\n",
    "df= pd.concat([df, pd.get_dummies(df['Genre'])], axis = 1)\n",
    "print(\"Modified DataFrame:\\n\", df)"
   ]
  },
  {
   "cell_type": "code",
   "execution_count": 12,
   "id": "4e9f7d14-b9fb-42d3-bc1a-e487b13ba6c6",
   "metadata": {},
   "outputs": [],
   "source": [
    "# Using ggplot style \n",
    "matplotlib.style.use(\"ggplot\")"
   ]
  },
  {
   "cell_type": "code",
   "execution_count": 46,
   "id": "8b0372ec-b662-4b50-99f4-c986999ee65c",
   "metadata": {},
   "outputs": [],
   "source": [
    "# create a definition for plotting a boxplot to compare the columns\n",
    "\n",
    "def plot_visual(col_name):\n",
    "        # create a pivot table to gather the columns\n",
    "        table_var = df[col_name]\n",
    "        \n",
    "        plt.hist(table_var, color = \"grey\")\n",
    "        \n",
    "        plt.title(f\"Boxplot of {col_name}\")\n",
    "        plt.xlabel(\"Data\")\n",
    "        plt.ylabel(\"values\")\n",
    "        \n",
    "        plt.show()"
   ]
  },
  {
   "cell_type": "code",
   "execution_count": 47,
   "id": "67e2cf86-5868-444e-a9c3-b8ec3fdfeeb3",
   "metadata": {},
   "outputs": [
    {
     "data": {
      "image/png": "[encoded data removed]",
      "text/plain": [
       "<Figure size 432x288 with 1 Axes>"
      ]
     },
     "metadata": {},
     "output_type": "display_data"
    }
   ],
   "source": [
    "plot_visual('Annual Income (k$)')"
   ]
  },
  {
   "cell_type": "code",
   "execution_count": 48,
   "id": "0d6353b3-2808-41f9-b5ae-af29c5244a8f",
   "metadata": {},
   "outputs": [
    {
     "data": {
      "image/png": "[encoded data removed]",
      "text/plain": [
       "<Figure size 432x288 with 1 Axes>"
      ]
     },
     "metadata": {},
     "output_type": "display_data"
    }
   ],
   "source": [
    "plot_visual('Age')"
   ]
  },
  {
   "cell_type": "code",
   "execution_count": 51,
   "id": "3f5f22f7-ed02-4ce3-bcd9-f2b3858b13f0",
   "metadata": {},
   "outputs": [
    {
     "data": {
      "image/png": "[encoded data removed]",
      "text/plain": [
       "<Figure size 432x288 with 1 Axes>"
      ]
     },
     "metadata": {},
     "output_type": "display_data"
    }
   ],
   "source": [
    "plot_visual('Spending Score (1-100)')"
   ]
  },
  {
   "cell_type": "code",
   "execution_count": 53,
   "id": "eb73f4f8-fcdf-46bb-8eb3-c18db72b4628",
   "metadata": {},
   "outputs": [
    {
     "data": {
      "image/png": "[encoded data removed]",
      "text/plain": [
       "<Figure size 432x288 with 1 Axes>"
      ]
     },
     "metadata": {},
     "output_type": "display_data"
    }
   ],
   "source": [
    "plot_visual('Genre')"
   ]
  },
  {
   "cell_type": "markdown",
   "id": "bb2e5b38-2063-4a5c-9382-f3417854a0fa",
   "metadata": {},
   "source": [
    "### 2. Prepare the data for clustering: \n",
    "* a. Perform any necessary feature scaling (StandardScaler or MinMaxScaler) \n",
    "* b. Choose the appropriate features for clustering (you may start with 'Annual Income' and 'Spending Score') \n",
    "* c. Create a new DataFrame with only the selected features"
   ]
  },
  {
   "cell_type": "code",
   "execution_count": 55,
   "id": "57d1bae6-b80f-4d37-9e13-d94932e04dd7",
   "metadata": {},
   "outputs": [],
   "source": [
    "from sklearn.preprocessing import StandardScaler"
   ]
  },
  {
   "cell_type": "code",
   "execution_count": 57,
   "id": "5106bbd6-4d42-44c4-8814-0c304e837251",
   "metadata": {},
   "outputs": [
    {
     "data": {
      "text/plain": [
       "Index(['CustomerID', 'Genre', 'Age', 'Annual Income (k$)',\n",
       "       'Spending Score (1-100)', 'Female', 'Male'],\n",
       "      dtype='object')"
      ]
     },
     "execution_count": 57,
     "metadata": {},
     "output_type": "execute_result"
    }
   ],
   "source": [
    "df.columns"
   ]
  },
  {
   "cell_type": "code",
   "execution_count": 61,
   "id": "ced301a6-4184-4660-b38b-aea7889a0f4f",
   "metadata": {},
   "outputs": [],
   "source": [
    "# Select the features preference for clustering\n",
    "# we only want annual income and spending score in this case\n",
    "df_features = ['Annual Income (k$)',\n",
    "       'Spending Score (1-100)']\n",
    "\n",
    "# scale the features using StandardScaler\n",
    "scaler = StandardScaler()\n",
    "scaler_features = scaler.fit_transform(df[df_features])"
   ]
  },
  {
   "cell_type": "code",
   "execution_count": 62,
   "id": "ab48d4d1-5dac-4a96-914d-ed65c71ae500",
   "metadata": {},
   "outputs": [],
   "source": [
    "# create a new dataframe with the selected features\n",
    "scaled_df = pd.DataFrame(scaler_features, columns = df_features)"
   ]
  },
  {
   "cell_type": "markdown",
   "id": "4ffdf7b6-3ad4-44c1-8f82-3690043bb75b",
   "metadata": {},
   "source": [
    "### 3. Implement k-means clustering: \n",
    "* a. Import the KMeans class from the sklearn.cluster module \n",
    "* b. Use the Silhouette Method to determine the optimal number of clusters \n",
    "* c. Train the KMeans model with the optimal number of clusters \n",
    "* d. Obtain the cluster assignments for each data point"
   ]
  },
  {
   "cell_type": "code",
   "execution_count": 65,
   "id": "f2813b0b-4c23-4302-8a88-661c7801e0cd",
   "metadata": {},
   "outputs": [
    {
     "name": "stdout",
     "output_type": "stream",
     "text": [
      "Requirement already satisfied: scikit-learn in /Users/mic_elstan/opt/anaconda3/lib/python3.9/site-packages (1.0.2)\n",
      "Requirement already satisfied: joblib>=0.11 in /Users/mic_elstan/opt/anaconda3/lib/python3.9/site-packages (from scikit-learn) (1.1.0)\n",
      "Requirement already satisfied: threadpoolctl>=2.0.0 in /Users/mic_elstan/opt/anaconda3/lib/python3.9/site-packages (from scikit-learn) (2.2.0)\n",
      "Requirement already satisfied: scipy>=1.1.0 in /Users/mic_elstan/opt/anaconda3/lib/python3.9/site-packages (from scikit-learn) (1.7.3)\n",
      "Requirement already satisfied: numpy>=1.14.6 in /Users/mic_elstan/opt/anaconda3/lib/python3.9/site-packages (from scikit-learn) (1.21.5)\n",
      "Note: you may need to restart the kernel to use updated packages.\n"
     ]
    }
   ],
   "source": [
    "pip install scikit-learn"
   ]
  },
  {
   "cell_type": "code",
   "execution_count": 67,
   "id": "43ece7f4-1c42-48d9-8a00-b9b01fadc946",
   "metadata": {},
   "outputs": [],
   "source": [
    "# import necessary modules:\n",
    "from sklearn.cluster import KMeans\n",
    "from sklearn.metrics import silhouette_score"
   ]
  },
  {
   "cell_type": "code",
   "execution_count": 70,
   "id": "74601b77-b7e8-4bcf-a61c-c525e76cd57e",
   "metadata": {},
   "outputs": [],
   "source": [
    "# Using the silhouette_score method to determine the number of clusters in the model\n",
    "# generate a function to find the optimal number of clusters\n",
    "\n",
    "def find_optimal_clusters(data, max_k):\n",
    "    \n",
    "    # empty list to store the Silhouette scores for each number of clusters (k)\n",
    "    silhouette_scores = []\n",
    "    num_k = range(2, max_k +1)\n",
    "    \n",
    "    for k in num_k:\n",
    "        # creates a KMeans object with the current k and a fixed random state for reproducibility\n",
    "        kmeans = KMeans(n_clusters = k, random_state = 42)\n",
    "        labels = kmeans.fit_predict(data)\n",
    "        silhouette = silhouette_score(data, labels)\n",
    "        silhouette_scores.append(silhouette)\n",
    "    \n",
    "    optimal_k = num_k[np.argmax(silhouette_scores)]\n",
    "    \n",
    "    return optimal_k"
   ]
  },
  {
   "cell_type": "code",
   "execution_count": 73,
   "id": "f5d398c6-7774-4f5e-93f2-72cdf01be59c",
   "metadata": {},
   "outputs": [
    {
     "data": {
      "text/plain": [
       "5"
      ]
     },
     "execution_count": 73,
     "metadata": {},
     "output_type": "execute_result"
    }
   ],
   "source": [
    "find_optimal_clusters(scaler_features, max_k = 10)"
   ]
  },
  {
   "cell_type": "code",
   "execution_count": null,
   "id": "48009383-f408-4612-ab43-8addbbcc9f9a",
   "metadata": {},
   "outputs": [],
   "source": []
  }
 ],
 "metadata": {
  "kernelspec": {
   "display_name": "Python 3 (ipykernel)",
   "language": "python",
   "name": "python3"
  },
  "language_info": {
   "codemirror_mode": {
    "name": "ipython",
    "version": 3
   },
   "file_extension": ".py",
   "mimetype": "text/x-python",
   "name": "python",
   "nbconvert_exporter": "python",
   "pygments_lexer": "ipython3",
   "version": "3.9.12"
  }
 },
 "nbformat": 4,
 "nbformat_minor": 5
}
